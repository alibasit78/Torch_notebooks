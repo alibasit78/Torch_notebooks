{
  "nbformat": 4,
  "nbformat_minor": 0,
  "metadata": {
    "colab": {
      "provenance": []
    },
    "kernelspec": {
      "name": "python3",
      "display_name": "Python 3"
    },
    "language_info": {
      "name": "python"
    }
  },
  "cells": [
    {
      "cell_type": "code",
      "execution_count": null,
      "metadata": {
        "id": "eE18nRwN6DAL"
      },
      "outputs": [],
      "source": [
        "import torch"
      ]
    },
    {
      "cell_type": "code",
      "source": [
        "def fun(x):\n",
        "  return (x-2)**2"
      ],
      "metadata": {
        "id": "bUhBqEqM7cM_"
      },
      "execution_count": null,
      "outputs": []
    },
    {
      "cell_type": "code",
      "source": [
        "x_curr = 3.5\n",
        "x_param = torch.nn.Parameter(torch.tensor([x_curr]), requires_grad=True)\n",
        "optimizer = torch.optim.SGD([x_param], lr=0.1)"
      ],
      "metadata": {
        "id": "5l6hLVu16Kg_"
      },
      "execution_count": null,
      "outputs": []
    },
    {
      "cell_type": "code",
      "source": [
        "for epoch in range(60):\n",
        "  optimizer.zero_grad()\n",
        "  loss = fun(x_param)\n",
        "  loss.backward()\n",
        "  print(loss, x_param)\n",
        "  optimizer.step()\n",
        "print(x_param)"
      ],
      "metadata": {
        "id": "AfAuaJUj7W-f",
        "colab": {
          "base_uri": "https://localhost:8080/"
        },
        "outputId": "22bdc8e2-c4c7-4573-9535-4b9ad1fb3eca"
      },
      "execution_count": null,
      "outputs": [
        {
          "output_type": "stream",
          "name": "stdout",
          "text": [
            "tensor([2.2500], grad_fn=<PowBackward0>) Parameter containing:\n",
            "tensor([3.5000], requires_grad=True)\n",
            "tensor([1.4400], grad_fn=<PowBackward0>) Parameter containing:\n",
            "tensor([3.2000], requires_grad=True)\n",
            "tensor([0.9216], grad_fn=<PowBackward0>) Parameter containing:\n",
            "tensor([2.9600], requires_grad=True)\n",
            "tensor([0.5898], grad_fn=<PowBackward0>) Parameter containing:\n",
            "tensor([2.7680], requires_grad=True)\n",
            "tensor([0.3775], grad_fn=<PowBackward0>) Parameter containing:\n",
            "tensor([2.6144], requires_grad=True)\n",
            "tensor([0.2416], grad_fn=<PowBackward0>) Parameter containing:\n",
            "tensor([2.4915], requires_grad=True)\n",
            "tensor([0.1546], grad_fn=<PowBackward0>) Parameter containing:\n",
            "tensor([2.3932], requires_grad=True)\n",
            "tensor([0.0990], grad_fn=<PowBackward0>) Parameter containing:\n",
            "tensor([2.3146], requires_grad=True)\n",
            "tensor([0.0633], grad_fn=<PowBackward0>) Parameter containing:\n",
            "tensor([2.2517], requires_grad=True)\n",
            "tensor([0.0405], grad_fn=<PowBackward0>) Parameter containing:\n",
            "tensor([2.2013], requires_grad=True)\n",
            "tensor([0.0259], grad_fn=<PowBackward0>) Parameter containing:\n",
            "tensor([2.1611], requires_grad=True)\n",
            "tensor([0.0166], grad_fn=<PowBackward0>) Parameter containing:\n",
            "tensor([2.1288], requires_grad=True)\n",
            "tensor([0.0106], grad_fn=<PowBackward0>) Parameter containing:\n",
            "tensor([2.1031], requires_grad=True)\n",
            "tensor([0.0068], grad_fn=<PowBackward0>) Parameter containing:\n",
            "tensor([2.0825], requires_grad=True)\n",
            "tensor([0.0044], grad_fn=<PowBackward0>) Parameter containing:\n",
            "tensor([2.0660], requires_grad=True)\n",
            "tensor([0.0028], grad_fn=<PowBackward0>) Parameter containing:\n",
            "tensor([2.0528], requires_grad=True)\n",
            "tensor([0.0018], grad_fn=<PowBackward0>) Parameter containing:\n",
            "tensor([2.0422], requires_grad=True)\n",
            "tensor([0.0011], grad_fn=<PowBackward0>) Parameter containing:\n",
            "tensor([2.0338], requires_grad=True)\n",
            "tensor([0.0007], grad_fn=<PowBackward0>) Parameter containing:\n",
            "tensor([2.0270], requires_grad=True)\n",
            "tensor([0.0005], grad_fn=<PowBackward0>) Parameter containing:\n",
            "tensor([2.0216], requires_grad=True)\n",
            "tensor([0.0003], grad_fn=<PowBackward0>) Parameter containing:\n",
            "tensor([2.0173], requires_grad=True)\n",
            "tensor([0.0002], grad_fn=<PowBackward0>) Parameter containing:\n",
            "tensor([2.0138], requires_grad=True)\n",
            "tensor([0.0001], grad_fn=<PowBackward0>) Parameter containing:\n",
            "tensor([2.0111], requires_grad=True)\n",
            "tensor([7.8400e-05], grad_fn=<PowBackward0>) Parameter containing:\n",
            "tensor([2.0089], requires_grad=True)\n",
            "tensor([5.0175e-05], grad_fn=<PowBackward0>) Parameter containing:\n",
            "tensor([2.0071], requires_grad=True)\n",
            "tensor([3.2112e-05], grad_fn=<PowBackward0>) Parameter containing:\n",
            "tensor([2.0057], requires_grad=True)\n",
            "tensor([2.0551e-05], grad_fn=<PowBackward0>) Parameter containing:\n",
            "tensor([2.0045], requires_grad=True)\n",
            "tensor([1.3152e-05], grad_fn=<PowBackward0>) Parameter containing:\n",
            "tensor([2.0036], requires_grad=True)\n",
            "tensor([8.4176e-06], grad_fn=<PowBackward0>) Parameter containing:\n",
            "tensor([2.0029], requires_grad=True)\n",
            "tensor([5.3871e-06], grad_fn=<PowBackward0>) Parameter containing:\n",
            "tensor([2.0023], requires_grad=True)\n",
            "tensor([3.4477e-06], grad_fn=<PowBackward0>) Parameter containing:\n",
            "tensor([2.0019], requires_grad=True)\n",
            "tensor([2.2063e-06], grad_fn=<PowBackward0>) Parameter containing:\n",
            "tensor([2.0015], requires_grad=True)\n",
            "tensor([1.4120e-06], grad_fn=<PowBackward0>) Parameter containing:\n",
            "tensor([2.0012], requires_grad=True)\n",
            "tensor([9.0359e-07], grad_fn=<PowBackward0>) Parameter containing:\n",
            "tensor([2.0010], requires_grad=True)\n",
            "tensor([5.7844e-07], grad_fn=<PowBackward0>) Parameter containing:\n",
            "tensor([2.0008], requires_grad=True)\n",
            "tensor([3.7020e-07], grad_fn=<PowBackward0>) Parameter containing:\n",
            "tensor([2.0006], requires_grad=True)\n",
            "tensor([2.3702e-07], grad_fn=<PowBackward0>) Parameter containing:\n",
            "tensor([2.0005], requires_grad=True)\n",
            "tensor([1.5177e-07], grad_fn=<PowBackward0>) Parameter containing:\n",
            "tensor([2.0004], requires_grad=True)\n",
            "tensor([9.7103e-08], grad_fn=<PowBackward0>) Parameter containing:\n",
            "tensor([2.0003], requires_grad=True)\n",
            "tensor([6.2193e-08], grad_fn=<PowBackward0>) Parameter containing:\n",
            "tensor([2.0002], requires_grad=True)\n",
            "tensor([3.9823e-08], grad_fn=<PowBackward0>) Parameter containing:\n",
            "tensor([2.0002], requires_grad=True)\n",
            "tensor([2.5517e-08], grad_fn=<PowBackward0>) Parameter containing:\n",
            "tensor([2.0002], requires_grad=True)\n",
            "tensor([1.6331e-08], grad_fn=<PowBackward0>) Parameter containing:\n",
            "tensor([2.0001], requires_grad=True)\n",
            "tensor([1.0462e-08], grad_fn=<PowBackward0>) Parameter containing:\n",
            "tensor([2.0001], requires_grad=True)\n",
            "tensor([6.6876e-09], grad_fn=<PowBackward0>) Parameter containing:\n",
            "tensor([2.0001], requires_grad=True)\n",
            "tensor([4.2676e-09], grad_fn=<PowBackward0>) Parameter containing:\n",
            "tensor([2.0001], requires_grad=True)\n",
            "tensor([2.7263e-09], grad_fn=<PowBackward0>) Parameter containing:\n",
            "tensor([2.0001], requires_grad=True)\n",
            "tensor([1.7408e-09], grad_fn=<PowBackward0>) Parameter containing:\n",
            "tensor([2.0000], requires_grad=True)\n",
            "tensor([1.1141e-09], grad_fn=<PowBackward0>) Parameter containing:\n",
            "tensor([2.0000], requires_grad=True)\n",
            "tensor([7.1304e-10], grad_fn=<PowBackward0>) Parameter containing:\n",
            "tensor([2.0000], requires_grad=True)\n",
            "tensor([4.6043e-10], grad_fn=<PowBackward0>) Parameter containing:\n",
            "tensor([2.0000], requires_grad=True)\n",
            "tensor([2.9468e-10], grad_fn=<PowBackward0>) Parameter containing:\n",
            "tensor([2.0000], requires_grad=True)\n",
            "tensor([1.9122e-10], grad_fn=<PowBackward0>) Parameter containing:\n",
            "tensor([2.0000], requires_grad=True)\n",
            "tensor([1.2028e-10], grad_fn=<PowBackward0>) Parameter containing:\n",
            "tensor([2.0000], requires_grad=True)\n",
            "tensor([7.7819e-11], grad_fn=<PowBackward0>) Parameter containing:\n",
            "tensor([2.0000], requires_grad=True)\n",
            "tensor([5.1159e-11], grad_fn=<PowBackward0>) Parameter containing:\n",
            "tensor([2.0000], requires_grad=True)\n",
            "tensor([3.2742e-11], grad_fn=<PowBackward0>) Parameter containing:\n",
            "tensor([2.0000], requires_grad=True)\n",
            "tensor([2.0520e-11], grad_fn=<PowBackward0>) Parameter containing:\n",
            "tensor([2.0000], requires_grad=True)\n",
            "tensor([1.2790e-11], grad_fn=<PowBackward0>) Parameter containing:\n",
            "tensor([2.0000], requires_grad=True)\n",
            "tensor([8.1855e-12], grad_fn=<PowBackward0>) Parameter containing:\n",
            "tensor([2.0000], requires_grad=True)\n",
            "Parameter containing:\n",
            "tensor([2.0000], requires_grad=True)\n"
          ]
        }
      ]
    },
    {
      "cell_type": "code",
      "source": [
        "print(x_param.data)"
      ],
      "metadata": {
        "colab": {
          "base_uri": "https://localhost:8080/"
        },
        "id": "JHQkciO57rr9",
        "outputId": "91b4032a-61eb-4bdf-ebc5-f90aabb8d19a"
      },
      "execution_count": null,
      "outputs": [
        {
          "output_type": "stream",
          "name": "stdout",
          "text": [
            "tensor([2.0000])\n"
          ]
        }
      ]
    },
    {
      "cell_type": "code",
      "source": [
        "from torch.utils.data import Dataset\n",
        "from sklearn.datasets import fetch_openml\n",
        "\n",
        "X, y = fetch_openml('mnist_784', version = 1, return_X_y = True)\n",
        "print(X.shape, len(y))"
      ],
      "metadata": {
        "colab": {
          "base_uri": "https://localhost:8080/"
        },
        "id": "Dua29UD679jS",
        "outputId": "d3d9295a-3631-416a-bd42-d459326b92f0"
      },
      "execution_count": null,
      "outputs": [
        {
          "output_type": "stream",
          "name": "stderr",
          "text": [
            "/usr/local/lib/python3.10/dist-packages/sklearn/datasets/_openml.py:968: FutureWarning: The default value of `parser` will change from `'liac-arff'` to `'auto'` in 1.4. You can set `parser='auto'` to silence this warning. Therefore, an `ImportError` will be raised from 1.4 if the dataset is dense and pandas is not installed. Note that the pandas parser may return different data types. See the Notes Section in fetch_openml's API doc for details.\n",
            "  warn(\n"
          ]
        },
        {
          "output_type": "stream",
          "name": "stdout",
          "text": [
            "(70000, 784) 70000\n"
          ]
        }
      ]
    },
    {
      "cell_type": "code",
      "source": [
        "X = X.to_numpy()\n",
        "y = y.to_numpy()"
      ],
      "metadata": {
        "id": "E6hgqCkGOgR_"
      },
      "execution_count": null,
      "outputs": []
    },
    {
      "cell_type": "code",
      "source": [
        "class SimpleDataset(Dataset):\n",
        "  def __init__(self, X, y):\n",
        "    super(SimpleDataset, self).__init__()\n",
        "    self.X = X\n",
        "    self.y = y\n",
        "  def __getitem__(self, index):\n",
        "    \"\"\"\n",
        "    It is recommonded that all pre-processing should be done\n",
        "    in the getitem function, because when GPU is busy at that\n",
        "    time this pre-processing will work parallely and hence\n",
        "    complete utilization of the infrastructure\n",
        "    \"\"\"\n",
        "    inputs = torch.tensor(self.X[index, :], dtype=torch.float32)\n",
        "    targets = torch.tensor(int(self.y[index]), dtype = torch.int64)\n",
        "    return inputs, targets\n",
        "  def __len__(self):\n",
        "    return self.X.shape[0]\n",
        "\n",
        "dataset = SimpleDataset(X, y)\n"
      ],
      "metadata": {
        "id": "L2mv5jGk9-RN"
      },
      "execution_count": null,
      "outputs": []
    },
    {
      "cell_type": "code",
      "source": [
        "len(dataset)\n",
        "# example, label = dataset[0]"
      ],
      "metadata": {
        "colab": {
          "base_uri": "https://localhost:8080/"
        },
        "id": "j7e5OAb3Kjqs",
        "outputId": "ab6deed6-bd80-4712-8dfc-b78df3413702"
      },
      "execution_count": null,
      "outputs": [
        {
          "output_type": "execute_result",
          "data": {
            "text/plain": [
              "70000"
            ]
          },
          "metadata": {},
          "execution_count": 48
        }
      ]
    },
    {
      "cell_type": "code",
      "source": [
        "example, label = dataset[0]"
      ],
      "metadata": {
        "id": "MzYgwO1OPyPA"
      },
      "execution_count": null,
      "outputs": []
    },
    {
      "cell_type": "code",
      "source": [
        "example.shape, label"
      ],
      "metadata": {
        "colab": {
          "base_uri": "https://localhost:8080/"
        },
        "id": "g-OvtdOzP82k",
        "outputId": "09c52e4d-e741-4174-9023-c5fc32e924fb"
      },
      "execution_count": null,
      "outputs": [
        {
          "output_type": "execute_result",
          "data": {
            "text/plain": [
              "(torch.Size([784]), tensor(5))"
            ]
          },
          "metadata": {},
          "execution_count": 58
        }
      ]
    },
    {
      "cell_type": "code",
      "source": [
        "import matplotlib.pyplot as plt\n",
        "plt.imshow((example.view((28, 28))))"
      ],
      "metadata": {
        "colab": {
          "base_uri": "https://localhost:8080/",
          "height": 447
        },
        "id": "j8dxHGGKQCaf",
        "outputId": "7d8f03fa-76a8-4d30-a387-c08058ecb1b7"
      },
      "execution_count": null,
      "outputs": [
        {
          "output_type": "execute_result",
          "data": {
            "text/plain": [
              "<matplotlib.image.AxesImage at 0x7f07a693b0d0>"
            ]
          },
          "metadata": {},
          "execution_count": 57
        },
        {
          "output_type": "display_data",
          "data": {
            "text/plain": [
              "<Figure size 640x480 with 1 Axes>"
            ],
            "image/png": "[encoded data removed]"
          },
          "metadata": {}
        }
      ]
    },
    {
      "cell_type": "code",
      "source": [
        "from torch.utils.data import DataLoader\n",
        "ds_dataloader = DataLoader(dataset, batch_size=64, shuffle=True)"
      ],
      "metadata": {
        "id": "5ZiEllmxKmzG"
      },
      "execution_count": null,
      "outputs": []
    },
    {
      "cell_type": "code",
      "source": [
        "for batch in ds_dataloader:\n",
        "  print(batch)\n",
        "  break"
      ],
      "metadata": {
        "colab": {
          "base_uri": "https://localhost:8080/"
        },
        "id": "x5cq7rmrLw2j",
        "outputId": "5009bcca-ac87-46c7-e5a2-fff0372748f6"
      },
      "execution_count": null,
      "outputs": [
        {
          "output_type": "stream",
          "name": "stdout",
          "text": [
            "[tensor([[0., 0., 0.,  ..., 0., 0., 0.],\n",
            "        [0., 0., 0.,  ..., 0., 0., 0.],\n",
            "        [0., 0., 0.,  ..., 0., 0., 0.],\n",
            "        ...,\n",
            "        [0., 0., 0.,  ..., 0., 0., 0.],\n",
            "        [0., 0., 0.,  ..., 0., 0., 0.],\n",
            "        [0., 0., 0.,  ..., 0., 0., 0.]]), tensor([7, 8, 0, 4, 1, 6, 2, 0, 9, 2, 8, 6, 8, 1, 2, 0, 8, 9, 1, 6, 6, 7, 2, 6,\n",
            "        8, 8, 1, 7, 0, 3, 8, 1, 1, 2, 0, 5, 0, 7, 4, 0, 1, 9, 7, 0, 9, 4, 9, 0,\n",
            "        0, 3, 8, 3, 8, 1, 7, 5, 7, 0, 7, 7, 7, 0, 3, 3])]\n"
          ]
        }
      ]
    },
    {
      "cell_type": "markdown",
      "source": [
        "Linear Model"
      ],
      "metadata": {
        "id": "1OmXUDTiOuI4"
      }
    },
    {
      "cell_type": "code",
      "source": [
        "import numpy as np\n",
        "from torch.utils.data import Dataset\n",
        "import seaborn as sns\n",
        "from tqdm import tqdm\n",
        "from torch.utils.data import DataLoader"
      ],
      "metadata": {
        "id": "Mjxe9-1CN9nC"
      },
      "execution_count": null,
      "outputs": []
    },
    {
      "cell_type": "code",
      "source": [
        "X = np.linspace(0, 20, num=200)\n",
        "X.shape"
      ],
      "metadata": {
        "colab": {
          "base_uri": "https://localhost:8080/"
        },
        "id": "HXW8QZIiO29Q",
        "outputId": "675ef60a-f5fc-4e3e-dd3a-de644f93c719"
      },
      "execution_count": null,
      "outputs": [
        {
          "output_type": "execute_result",
          "data": {
            "text/plain": [
              "(200,)"
            ]
          },
          "metadata": {},
          "execution_count": 6
        }
      ]
    },
    {
      "cell_type": "code",
      "source": [
        "np.random.normal(size = 2)"
      ],
      "metadata": {
        "colab": {
          "base_uri": "https://localhost:8080/"
        },
        "id": "v5m0KSogPXi8",
        "outputId": "4741c374-6de4-46ba-f210-2e09ed65a46d"
      },
      "execution_count": null,
      "outputs": [
        {
          "output_type": "execute_result",
          "data": {
            "text/plain": [
              "array([0.19131906, 0.03944939])"
            ]
          },
          "metadata": {},
          "execution_count": 7
        }
      ]
    },
    {
      "cell_type": "code",
      "source": [
        "y = X + np.sin(X)*2 + np.random.normal(size = X.shape)"
      ],
      "metadata": {
        "id": "hIgFo8lhO8qE"
      },
      "execution_count": null,
      "outputs": []
    },
    {
      "cell_type": "code",
      "source": [
        "sns.scatterplot(x=X, y=y)"
      ],
      "metadata": {
        "colab": {
          "base_uri": "https://localhost:8080/",
          "height": 447
        },
        "id": "GPoMcy5oP5Ul",
        "outputId": "fc1dee0d-59c9-42bc-fc21-e352c1871300"
      },
      "execution_count": null,
      "outputs": [
        {
          "output_type": "execute_result",
          "data": {
            "text/plain": [
              "<Axes: >"
            ]
          },
          "metadata": {},
          "execution_count": 9
        },
        {
          "output_type": "display_data",
          "data": {
            "text/plain": [
              "<Figure size 640x480 with 1 Axes>"
            ],
            "image/png": "[encoded data removed]"
          },
          "metadata": {}
        }
      ]
    },
    {
      "cell_type": "code",
      "source": [
        "class SimpleRegressionDataset(Dataset):\n",
        "  def __init__(self, X, y):\n",
        "    super(SimpleRegressionDataset, self).__init__()\n",
        "    self.X = X.reshape(-1, 1)\n",
        "    self.y = y.reshape(-1, 1)\n",
        "  def __getitem__(self, index):\n",
        "    X = torch.tensor(self.X[index, :], dtype = torch.float32)\n",
        "    y = torch.tensor(self.y[index, :], dtype = torch.float32)\n",
        "    return X, y\n",
        "  def __len__(self):\n",
        "    return self.X.shape[0]\n",
        "\n",
        "train_dataloader = DataLoader(SimpleRegressionDataset(X, y), batch_size=1, shuffle = True)\n"
      ],
      "metadata": {
        "id": "sA-8nC2uP8GF"
      },
      "execution_count": null,
      "outputs": []
    },
    {
      "cell_type": "code",
      "source": [
        "# next(iter(train_dataloader))"
      ],
      "metadata": {
        "id": "casAhzrERchz"
      },
      "execution_count": null,
      "outputs": []
    },
    {
      "cell_type": "code",
      "source": [
        "w = 3.5\n",
        "w_param = nn.Parameter(torch.tensor([w], dtype = torch.float32), requires_grad = True)\n",
        "w_param"
      ],
      "metadata": {
        "colab": {
          "base_uri": "https://localhost:8080/"
        },
        "id": "pR9yXjmh7Q76",
        "outputId": "086baf2f-6aca-4970-e791-4c2f61ac3efe"
      },
      "execution_count": null,
      "outputs": [
        {
          "output_type": "execute_result",
          "data": {
            "text/plain": [
              "Parameter containing:\n",
              "tensor([3.5000], requires_grad=True)"
            ]
          },
          "metadata": {},
          "execution_count": 23
        }
      ]
    },
    {
      "cell_type": "code",
      "source": [
        "import numpy as np\n",
        "w_param.detach().cpu().numpy().astype(np.int64)"
      ],
      "metadata": {
        "colab": {
          "base_uri": "https://localhost:8080/"
        },
        "id": "hICVL4eE7tt5",
        "outputId": "6187a0d7-1e90-48e7-bbfb-fbd92fc50361"
      },
      "execution_count": null,
      "outputs": [
        {
          "output_type": "execute_result",
          "data": {
            "text/plain": [
              "array([3])"
            ]
          },
          "metadata": {},
          "execution_count": 41
        }
      ]
    },
    {
      "cell_type": "code",
      "source": [
        "x = torch.randn((3,4))\n",
        "y = torch.argmax(x, dim = 1)\n",
        "y, type(y)"
      ],
      "metadata": {
        "colab": {
          "base_uri": "https://localhost:8080/"
        },
        "id": "g8piSTBSFlif",
        "outputId": "c22ba0bf-52b0-4cd8-cffa-da68bedcd4e3"
      },
      "execution_count": null,
      "outputs": [
        {
          "output_type": "execute_result",
          "data": {
            "text/plain": [
              "(tensor([2, 3, 1]), torch.Tensor)"
            ]
          },
          "metadata": {},
          "execution_count": 47
        }
      ]
    },
    {
      "cell_type": "code",
      "source": [
        "# !pip install torchmetrics"
      ],
      "metadata": {
        "id": "LEyrPcxv9kg7"
      },
      "execution_count": null,
      "outputs": []
    },
    {
      "cell_type": "code",
      "source": [
        "#from torchmetrics.functional import precision_recall"
      ],
      "metadata": {
        "id": "9b6pa_BI9X2M"
      },
      "execution_count": null,
      "outputs": []
    },
    {
      "cell_type": "code",
      "source": [
        "from sklearn.metrics import recall_score, precision_score"
      ],
      "metadata": {
        "id": "LQL26k81-G2C"
      },
      "execution_count": null,
      "outputs": []
    },
    {
      "cell_type": "code",
      "source": [
        "def train_simple_network(model, loss_func, train_dataloader, device, epochs= 20, val_dataloader = None, debug_step = 50):\n",
        "  optimizer = torch.optim.SGD(model.parameters(), lr= 0.001)\n",
        "  model.to(device)\n",
        "  train_loss = []\n",
        "  eval_loss = []\n",
        "  # for epoch in tqdm(range(epochs), desc = \"Epoch\"):\n",
        "  for epoch in range(epochs):\n",
        "    model = model.train()\n",
        "    running_loss = 0.0\n",
        "    step = 0\n",
        "    # for inputs, labels in tqdm(train_dataloader, desc = \"Train Batch\", leave=False):\n",
        "    for inputs, labels in train_dataloader:\n",
        "      inputs = inputs.to(device)\n",
        "      labels = labels.to(device)\n",
        "      optimizer.zero_grad()\n",
        "      y_hat = model(inputs)\n",
        "      loss = loss_func(y_hat, labels)\n",
        "\n",
        "      if step % debug_step == 0:\n",
        "        print(f\"step: {step}| step train loss: {loss}\")\n",
        "      loss.backward()\n",
        "      optimizer.step()\n",
        "      running_loss += loss.item()\n",
        "      step += 1\n",
        "    train_loss.append(running_loss/len(train_dataloader))\n",
        "    print(f'epoch: {epoch}| train loss: {running_loss/len(train_dataloader)}')\n",
        "    if val_dataloader:\n",
        "      model.eval()\n",
        "      running_eval_loss = 0.0\n",
        "      step = 0\n",
        "      loss = None\n",
        "      # for inputs, labels in tqdm(val_dataloader, desc = \"Eval Batch\", leave = False):\n",
        "      pred_labels = []\n",
        "      gold_labels = []\n",
        "      for inputs, labels in val_dataloader:\n",
        "        inputs = inputs.to(device)\n",
        "        labels = labels.to(device)\n",
        "        with torch.no_grad():\n",
        "          y_hat = model(inputs)\n",
        "          loss = loss_func(y_hat, labels)\n",
        "          pred_label = torch.argmax(y_hat, dim = 1).numpy()\n",
        "          pred_labels.extend(pred_label)\n",
        "          gold_labels.extend(labels.detach().cpu().numpy().astype(int))\n",
        "        if step% debug_step == 0:\n",
        "          print(f'eval step: {step}|step eval loss: {loss.item()}')\n",
        "        running_eval_loss += loss.item()\n",
        "        step += 1\n",
        "      eval_loss.append(running_eval_loss/len(val_dataloader))\n",
        "      # print(\"gold_labels: \",  gold_labels)\n",
        "      # print(\"pred_labels: \",  pred_labels)\n",
        "      prec = precision_score(gold_labels, pred_labels,average='micro')\n",
        "      recall = recall_score(gold_labels, pred_labels, average='micro')\n",
        "      print(f'epoch: {epoch}| eval loss: {running_eval_loss/len(val_dataloader)}| prec: {prec}| recall: {recall}')\n",
        "  return train_loss, eval_loss\n",
        "\n",
        "\n",
        "\n"
      ],
      "metadata": {
        "id": "pp8HrOl6TOlV"
      },
      "execution_count": null,
      "outputs": []
    },
    {
      "cell_type": "code",
      "source": [
        "in_features = 1\n",
        "out_features = 1\n",
        "model = torch.nn.Linear(in_features, out_features)\n",
        "loss_func = torch.nn.MSELoss()\n",
        "device = \"cuda\" if torch.cuda.is_available() else \"cpu\"\n",
        "train_loss, eval_loss = train_simple_network(model, loss_func, train_dataloader, device )"
      ],
      "metadata": {
        "id": "m8kDCWRbTQQr"
      },
      "execution_count": null,
      "outputs": []
    },
    {
      "cell_type": "code",
      "source": [
        "with torch.no_grad():\n",
        "  Y_pred = model(torch.tensor(X.reshape(-1,1), device=device, dtype=torch.float32)).cpu().numpy()\n",
        "sns.scatterplot(x = X, y = y, color = 'blue', label = 'Data')\n",
        "sns.lineplot(x = X, y = Y_pred.squeeze(axis=1), color = 'red', label = 'Linear Model')"
      ],
      "metadata": {
        "colab": {
          "base_uri": "https://localhost:8080/",
          "height": 447
        },
        "id": "anM_y6mfWpEU",
        "outputId": "8cbaec08-bdc0-4299-b00d-9c38e40e94dd"
      },
      "execution_count": null,
      "outputs": [
        {
          "output_type": "execute_result",
          "data": {
            "text/plain": [
              "<Axes: >"
            ]
          },
          "metadata": {},
          "execution_count": 26
        },
        {
          "output_type": "display_data",
          "data": {
            "text/plain": [
              "<Figure size 640x480 with 1 Axes>"
            ],
            "image/png": "[encoded data removed]"
          },
          "metadata": {}
        }
      ]
    },
    {
      "cell_type": "code",
      "source": [
        "Y_pred.squeeze(axis = -1)"
      ],
      "metadata": {
        "colab": {
          "base_uri": "https://localhost:8080/"
        },
        "id": "Fcqvg98gcGr7",
        "outputId": "7654b163-1a15-4748-aea0-2694e93d5010"
      },
      "execution_count": null,
      "outputs": [
        {
          "output_type": "execute_result",
          "data": {
            "text/plain": [
              "array([ 0.14536507,  0.24749915,  0.34963322,  0.45176727,  0.5539014 ,\n",
              "        0.6560354 ,  0.7581695 ,  0.8603036 ,  0.9624377 ,  1.0645717 ,\n",
              "        1.1667058 ,  1.26884   ,  1.370974  ,  1.473108  ,  1.5752422 ,\n",
              "        1.6773763 ,  1.7795104 ,  1.8816444 ,  1.9837785 ,  2.0859125 ,\n",
              "        2.1880465 ,  2.2901807 ,  2.3923147 ,  2.4944487 ,  2.5965827 ,\n",
              "        2.6987169 ,  2.8008509 ,  2.9029849 ,  3.005119  ,  3.1072533 ,\n",
              "        3.2093873 ,  3.3115213 ,  3.4136555 ,  3.5157895 ,  3.6179235 ,\n",
              "        3.7200575 ,  3.8221917 ,  3.9243257 ,  4.0264597 ,  4.128594  ,\n",
              "        4.230728  ,  4.3328624 ,  4.4349966 ,  4.5371304 ,  4.6392646 ,\n",
              "        4.7413983 ,  4.8435326 ,  4.945667  ,  5.0478005 ,  5.149935  ,\n",
              "        5.252069  ,  5.3542027 ,  5.456337  ,  5.558471  ,  5.660605  ,\n",
              "        5.762739  ,  5.8648734 ,  5.9670076 ,  6.069142  ,  6.1712756 ,\n",
              "        6.27341   ,  6.375544  ,  6.477678  ,  6.579812  ,  6.6819463 ,\n",
              "        6.78408   ,  6.8862143 ,  6.988348  ,  7.090482  ,  7.1926165 ,\n",
              "        7.29475   ,  7.3968844 ,  7.4990187 ,  7.6011524 ,  7.7032866 ,\n",
              "        7.8054204 ,  7.9075546 ,  8.009688  ,  8.111823  ,  8.213957  ,\n",
              "        8.316091  ,  8.418224  ,  8.520359  ,  8.622493  ,  8.7246275 ,\n",
              "        8.82676   ,  8.928895  ,  9.031029  ,  9.133163  ,  9.235298  ,\n",
              "        9.337431  ,  9.439566  ,  9.541699  ,  9.643834  ,  9.745968  ,\n",
              "        9.848103  ,  9.950235  , 10.05237   , 10.154504  , 10.256639  ,\n",
              "       10.358772  , 10.460906  , 10.56304   , 10.6651745 , 10.767308  ,\n",
              "       10.869443  , 10.971577  , 11.07371   , 11.175844  , 11.277979  ,\n",
              "       11.380113  , 11.482247  , 11.584381  , 11.686515  , 11.78865   ,\n",
              "       11.890783  , 11.992918  , 12.095052  , 12.1971855 , 12.299319  ,\n",
              "       12.401454  , 12.503588  , 12.605722  , 12.707855  , 12.80999   ,\n",
              "       12.912124  , 13.014258  , 13.116392  , 13.218527  , 13.32066   ,\n",
              "       13.422794  , 13.524928  , 13.627063  , 13.7291975 , 13.83133   ,\n",
              "       13.933465  , 14.035599  , 14.137733  , 14.239867  , 14.342002  ,\n",
              "       14.444135  , 14.546269  , 14.648403  , 14.750538  , 14.852672  ,\n",
              "       14.954805  , 15.056939  , 15.159074  , 15.261208  , 15.363342  ,\n",
              "       15.465475  , 15.56761   , 15.669744  , 15.771878  , 15.874012  ,\n",
              "       15.976147  , 16.078281  , 16.180414  , 16.282549  , 16.384682  ,\n",
              "       16.486816  , 16.588951  , 16.691084  , 16.79322   , 16.895353  ,\n",
              "       16.997486  , 17.09962   , 17.201756  , 17.30389   , 17.406023  ,\n",
              "       17.508156  , 17.610292  , 17.712425  , 17.81456   , 17.916693  ,\n",
              "       18.018827  , 18.120962  , 18.223095  , 18.325232  , 18.427364  ,\n",
              "       18.529497  , 18.631632  , 18.733767  , 18.835901  , 18.938034  ,\n",
              "       19.040169  , 19.142303  , 19.244436  , 19.346571  , 19.448704  ,\n",
              "       19.55084   , 19.652973  , 19.755106  , 19.85724   , 19.959375  ,\n",
              "       20.06151   , 20.163643  , 20.265776  , 20.367912  , 20.470045  ],\n",
              "      dtype=float32)"
            ]
          },
          "metadata": {},
          "execution_count": 49
        }
      ]
    },
    {
      "cell_type": "markdown",
      "source": [
        "Convolution"
      ],
      "metadata": {
        "id": "wT66HYuNJSPQ"
      }
    },
    {
      "cell_type": "code",
      "source": [
        "import torchvision\n",
        "from torchvision import transforms"
      ],
      "metadata": {
        "id": "e9ngWna4cRXC"
      },
      "execution_count": null,
      "outputs": []
    },
    {
      "cell_type": "code",
      "source": [
        "mnist_data_train = torchvision.datasets.MNIST(\"./data\", train=True, download=True, transform = transforms.ToTensor())\n",
        "mnist_data_test = torchvision.datasets.MNIST(\"./data\", train=False, download=True, transform = transforms.ToTensor())\n",
        "x_example, y_example = mnist_data_train[0]\n",
        "type(x_example)"
      ],
      "metadata": {
        "colab": {
          "base_uri": "https://localhost:8080/"
        },
        "id": "c9zBTbKgJXJb",
        "outputId": "db3b7c98-2076-4c3f-b32c-62ab3e470417"
      },
      "execution_count": null,
      "outputs": [
        {
          "output_type": "stream",
          "name": "stdout",
          "text": [
            "Downloading http://yann.lecun.com/exdb/mnist/train-images-idx3-ubyte.gz\n",
            "Failed to download (trying next):\n",
            "HTTP Error 403: Forbidden\n",
            "\n",
            "Downloading https://ossci-datasets.s3.amazonaws.com/mnist/train-images-idx3-ubyte.gz\n",
            "Downloading https://ossci-datasets.s3.amazonaws.com/mnist/train-images-idx3-ubyte.gz to ./data/MNIST/raw/train-images-idx3-ubyte.gz\n"
          ]
        },
        {
          "output_type": "stream",
          "name": "stderr",
          "text": [
            "100%|██████████| 9912422/9912422 [00:01<00:00, 5474905.71it/s]\n"
          ]
        },
        {
          "output_type": "stream",
          "name": "stdout",
          "text": [
            "Extracting ./data/MNIST/raw/train-images-idx3-ubyte.gz to ./data/MNIST/raw\n",
            "\n",
            "Downloading http://yann.lecun.com/exdb/mnist/train-labels-idx1-ubyte.gz\n",
            "Failed to download (trying next):\n",
            "HTTP Error 403: Forbidden\n",
            "\n",
            "Downloading https://ossci-datasets.s3.amazonaws.com/mnist/train-labels-idx1-ubyte.gz\n",
            "Downloading https://ossci-datasets.s3.amazonaws.com/mnist/train-labels-idx1-ubyte.gz to ./data/MNIST/raw/train-labels-idx1-ubyte.gz\n"
          ]
        },
        {
          "output_type": "stream",
          "name": "stderr",
          "text": [
            "100%|██████████| 28881/28881 [00:00<00:00, 160003.82it/s]\n"
          ]
        },
        {
          "output_type": "stream",
          "name": "stdout",
          "text": [
            "Extracting ./data/MNIST/raw/train-labels-idx1-ubyte.gz to ./data/MNIST/raw\n",
            "\n",
            "Downloading http://yann.lecun.com/exdb/mnist/t10k-images-idx3-ubyte.gz\n",
            "Failed to download (trying next):\n",
            "HTTP Error 403: Forbidden\n",
            "\n",
            "Downloading https://ossci-datasets.s3.amazonaws.com/mnist/t10k-images-idx3-ubyte.gz\n",
            "Downloading https://ossci-datasets.s3.amazonaws.com/mnist/t10k-images-idx3-ubyte.gz to ./data/MNIST/raw/t10k-images-idx3-ubyte.gz\n"
          ]
        },
        {
          "output_type": "stream",
          "name": "stderr",
          "text": [
            "100%|██████████| 1648877/1648877 [00:01<00:00, 1504864.97it/s]\n"
          ]
        },
        {
          "output_type": "stream",
          "name": "stdout",
          "text": [
            "Extracting ./data/MNIST/raw/t10k-images-idx3-ubyte.gz to ./data/MNIST/raw\n",
            "\n",
            "Downloading http://yann.lecun.com/exdb/mnist/t10k-labels-idx1-ubyte.gz\n",
            "Failed to download (trying next):\n",
            "HTTP Error 403: Forbidden\n",
            "\n",
            "Downloading https://ossci-datasets.s3.amazonaws.com/mnist/t10k-labels-idx1-ubyte.gz\n",
            "Downloading https://ossci-datasets.s3.amazonaws.com/mnist/t10k-labels-idx1-ubyte.gz to ./data/MNIST/raw/t10k-labels-idx1-ubyte.gz\n"
          ]
        },
        {
          "output_type": "stream",
          "name": "stderr",
          "text": [
            "100%|██████████| 4542/4542 [00:00<00:00, 3175088.13it/s]"
          ]
        },
        {
          "output_type": "stream",
          "name": "stdout",
          "text": [
            "Extracting ./data/MNIST/raw/t10k-labels-idx1-ubyte.gz to ./data/MNIST/raw\n",
            "\n"
          ]
        },
        {
          "output_type": "stream",
          "name": "stderr",
          "text": [
            "\n"
          ]
        },
        {
          "output_type": "execute_result",
          "data": {
            "text/plain": [
              "torch.Tensor"
            ]
          },
          "metadata": {},
          "execution_count": 8
        }
      ]
    },
    {
      "cell_type": "code",
      "source": [
        "x_example.shape"
      ],
      "metadata": {
        "colab": {
          "base_uri": "https://localhost:8080/"
        },
        "id": "khLgh-I6JgJU",
        "outputId": "c479ea13-57b6-4477-dc54-fa644500ddba"
      },
      "execution_count": null,
      "outputs": [
        {
          "output_type": "execute_result",
          "data": {
            "text/plain": [
              "torch.Size([1, 28, 28])"
            ]
          },
          "metadata": {},
          "execution_count": 9
        }
      ]
    },
    {
      "cell_type": "code",
      "source": [
        "from torch.utils.data import DataLoader\n",
        "import torch\n",
        "import torch.nn as nn\n",
        "device = torch.device('cuda') if torch.cuda.is_available() else torch.device('cpu')\n",
        "\n",
        "print(device)\n",
        "B = 32\n",
        "mnist_train_loader = DataLoader(mnist_data_train, batch_size=B, shuffle=True)\n",
        "mnist_test_loader = DataLoader(mnist_data_train, batch_size=B)"
      ],
      "metadata": {
        "colab": {
          "base_uri": "https://localhost:8080/"
        },
        "id": "-Le5kn8dJmaO",
        "outputId": "0a905a3f-00e3-4bab-961d-60cf8a1d05bc"
      },
      "execution_count": null,
      "outputs": [
        {
          "output_type": "stream",
          "name": "stdout",
          "text": [
            "cpu\n"
          ]
        }
      ]
    },
    {
      "cell_type": "code",
      "source": [
        "batchs, labels = next(iter(mnist_train_loader))"
      ],
      "metadata": {
        "id": "maDo1x-hKj9c"
      },
      "execution_count": null,
      "outputs": []
    },
    {
      "cell_type": "code",
      "source": [
        "batchs.shape, labels.shape"
      ],
      "metadata": {
        "colab": {
          "base_uri": "https://localhost:8080/"
        },
        "id": "-HBol1cMLgtJ",
        "outputId": "7459c728-d0e0-4606-b67a-20b507e20474"
      },
      "execution_count": null,
      "outputs": [
        {
          "output_type": "execute_result",
          "data": {
            "text/plain": [
              "(torch.Size([32, 1, 28, 28]), torch.Size([32]))"
            ]
          },
          "metadata": {},
          "execution_count": 53
        }
      ]
    },
    {
      "cell_type": "code",
      "source": [
        "labels[:10], type(labels)"
      ],
      "metadata": {
        "colab": {
          "base_uri": "https://localhost:8080/"
        },
        "id": "tDVe2z6w5nLd",
        "outputId": "32a36cee-c378-4cbf-ad52-284d6221e6c6"
      },
      "execution_count": null,
      "outputs": [
        {
          "output_type": "execute_result",
          "data": {
            "text/plain": [
              "(tensor([4, 1, 9, 4, 8, 5, 5, 4, 2, 8]), torch.Tensor)"
            ]
          },
          "metadata": {},
          "execution_count": 14
        }
      ]
    },
    {
      "cell_type": "code",
      "source": [
        "w = h = batchs.shape[-1] #height size\n",
        "D = w * h\n",
        "C = 1\n",
        "classes = 10\n",
        "filters = 16\n",
        "K = 3 #filter size\n",
        "\n",
        "model_linear = nn.Sequential(\n",
        "  nn.Flatten(), # (B, C, W, H) -> (B, C*W*H) = (B,D)\n",
        "  nn.Linear(D, 256),\n",
        "  nn.Tanh(),\n",
        "  nn.Linear(256, classes),\n",
        ")\n",
        "\n",
        "model_conv = nn.Sequential(\n",
        "    nn.Conv2d(C, filters,K, padding = K//2),\n",
        "    nn.Tanh(),\n",
        "    nn.Flatten(),\n",
        "    nn.Linear(filters*D, classes)\n",
        ")"
      ],
      "metadata": {
        "id": "NgZ1llvMLs7T"
      },
      "execution_count": null,
      "outputs": []
    },
    {
      "cell_type": "code",
      "source": [
        "loss_func = nn.CrossEntropyLoss()\n",
        "# train_loss, eval_loss = train_simple_network(model_conv, loss_func, mnist_train_loader, device, epochs= 10, val_dataloader = mnist_test_loader, debug_step=500)\n",
        "train_loss, eval_loss = train_simple_network(model_linear, loss_func, mnist_train_loader, device, epochs= 10, val_dataloader = mnist_test_loader, debug_step=500)"
      ],
      "metadata": {
        "id": "h2rt9fX6NyrP",
        "colab": {
          "base_uri": "https://localhost:8080/"
        },
        "outputId": "b88245ed-017d-4642-f0ca-fb4e541bb0ea"
      },
      "execution_count": null,
      "outputs": [
        {
          "output_type": "stream",
          "name": "stdout",
          "text": [
            "step: 0| step train loss: 2.2986719608306885\n",
            "step: 500| step train loss: 2.1217212677001953\n",
            "step: 1000| step train loss: 1.8696929216384888\n",
            "step: 1500| step train loss: 1.664557933807373\n",
            "epoch: 0| train loss: 1.9480614693323772\n",
            "eval step: 0|step eval loss: 1.630637288093567\n",
            "eval step: 500|step eval loss: 1.736754298210144\n",
            "eval step: 1000|step eval loss: 1.546022653579712\n",
            "eval step: 1500|step eval loss: 1.4941692352294922\n",
            "epoch: 0| eval loss: 1.5823017171859741| prec: 0.7444| recall: 0.7444\n",
            "step: 0| step train loss: 1.5025311708450317\n",
            "step: 500| step train loss: 1.4019668102264404\n",
            "step: 1000| step train loss: 1.3372021913528442\n",
            "step: 1500| step train loss: 1.2187888622283936\n",
            "epoch: 1| train loss: 1.2875977821032205\n",
            "eval step: 0|step eval loss: 1.1141737699508667\n",
            "eval step: 500|step eval loss: 1.3025850057601929\n",
            "eval step: 1000|step eval loss: 1.0124839544296265\n",
            "eval step: 1500|step eval loss: 0.9133811593055725\n",
            "epoch: 1| eval loss: 1.0493716993967692| prec: 0.7980666666666667| recall: 0.7980666666666667\n",
            "step: 0| step train loss: 1.2547563314437866\n",
            "step: 500| step train loss: 0.8344809412956238\n",
            "step: 1000| step train loss: 0.6845492720603943\n",
            "step: 1500| step train loss: 0.8443183898925781\n",
            "epoch: 2| train loss: 0.9056308053970337\n",
            "eval step: 0|step eval loss: 0.8701344132423401\n",
            "eval step: 500|step eval loss: 1.044691801071167\n",
            "eval step: 1000|step eval loss: 0.7556407451629639\n",
            "eval step: 1500|step eval loss: 0.6364967823028564\n",
            "epoch: 2| eval loss: 0.7922034933725993| prec: 0.8324166666666667| recall: 0.8324166666666667\n",
            "step: 0| step train loss: 0.8063676953315735\n",
            "step: 500| step train loss: 0.8261011242866516\n",
            "step: 1000| step train loss: 0.8449745774269104\n",
            "step: 1500| step train loss: 0.6087477803230286\n",
            "epoch: 3| train loss: 0.7197995592912039\n",
            "eval step: 0|step eval loss: 0.7429918050765991\n",
            "eval step: 500|step eval loss: 0.8962882161140442\n",
            "eval step: 1000|step eval loss: 0.6324307918548584\n",
            "eval step: 1500|step eval loss: 0.5001928210258484\n",
            "epoch: 3| eval loss: 0.6594092897256215| prec: 0.85135| recall: 0.85135\n",
            "step: 0| step train loss: 0.6817916035652161\n",
            "step: 500| step train loss: 0.5186732411384583\n",
            "step: 1000| step train loss: 0.5950421094894409\n",
            "step: 1500| step train loss: 0.46301475167274475\n",
            "epoch: 4| train loss: 0.6171621416250864\n",
            "eval step: 0|step eval loss: 0.6636732220649719\n",
            "eval step: 500|step eval loss: 0.798686146736145\n",
            "eval step: 1000|step eval loss: 0.5603797435760498\n",
            "eval step: 1500|step eval loss: 0.4205172061920166\n",
            "epoch: 4| eval loss: 0.5803268394231796| prec: 0.8619| recall: 0.8619\n",
            "step: 0| step train loss: 0.5641607046127319\n",
            "step: 500| step train loss: 0.6918981671333313\n",
            "step: 1000| step train loss: 0.5402492880821228\n",
            "step: 1500| step train loss: 0.4144933521747589\n",
            "epoch: 5| train loss: 0.5527862707138061\n",
            "eval step: 0|step eval loss: 0.6089383959770203\n",
            "eval step: 500|step eval loss: 0.7208967208862305\n",
            "eval step: 1000|step eval loss: 0.5094102621078491\n",
            "eval step: 1500|step eval loss: 0.37115031480789185\n",
            "epoch: 5| eval loss: 0.5280922795057297| prec: 0.86995| recall: 0.86995\n",
            "step: 0| step train loss: 0.5255759358406067\n",
            "step: 500| step train loss: 0.5309564471244812\n",
            "step: 1000| step train loss: 0.28691938519477844\n",
            "step: 1500| step train loss: 0.4584940969944\n",
            "epoch: 6| train loss: 0.5087848907788595\n",
            "eval step: 0|step eval loss: 0.5680784583091736\n",
            "eval step: 500|step eval loss: 0.6745993494987488\n",
            "eval step: 1000|step eval loss: 0.4894687235355377\n",
            "eval step: 1500|step eval loss: 0.33089423179626465\n",
            "epoch: 6| eval loss: 0.49096634217103324| prec: 0.8755666666666667| recall: 0.8755666666666667\n",
            "step: 0| step train loss: 0.43073326349258423\n",
            "step: 500| step train loss: 0.592434823513031\n",
            "step: 1000| step train loss: 0.37985852360725403\n",
            "step: 1500| step train loss: 0.4345080256462097\n",
            "epoch: 7| train loss: 0.4768189616123835\n",
            "eval step: 0|step eval loss: 0.5366286635398865\n",
            "eval step: 500|step eval loss: 0.6316393613815308\n",
            "eval step: 1000|step eval loss: 0.4627090394496918\n",
            "eval step: 1500|step eval loss: 0.3063797652721405\n",
            "epoch: 7| eval loss: 0.46327694605986275| prec: 0.8803166666666666| recall: 0.8803166666666666\n",
            "step: 0| step train loss: 0.4006178677082062\n",
            "step: 500| step train loss: 0.24274753034114838\n",
            "step: 1000| step train loss: 0.3320252299308777\n",
            "step: 1500| step train loss: 0.3945227861404419\n",
            "epoch: 8| train loss: 0.452494114557902\n",
            "eval step: 0|step eval loss: 0.5091508626937866\n",
            "eval step: 500|step eval loss: 0.5982764363288879\n",
            "eval step: 1000|step eval loss: 0.44676992297172546\n",
            "eval step: 1500|step eval loss: 0.2858727276325226\n",
            "epoch: 8| eval loss: 0.44192093938589094| prec: 0.8841833333333333| recall: 0.8841833333333333\n",
            "step: 0| step train loss: 0.32739049196243286\n",
            "step: 500| step train loss: 0.3453062176704407\n",
            "step: 1000| step train loss: 0.4504718780517578\n",
            "step: 1500| step train loss: 0.4609178602695465\n",
            "epoch: 9| train loss: 0.4334025805870692\n",
            "eval step: 0|step eval loss: 0.48400789499282837\n",
            "eval step: 500|step eval loss: 0.5700754523277283\n",
            "eval step: 1000|step eval loss: 0.435434490442276\n",
            "eval step: 1500|step eval loss: 0.26788774132728577\n",
            "epoch: 9| eval loss: 0.4248460997700691| prec: 0.8872166666666667| recall: 0.8872166666666667\n"
          ]
        }
      ]
    },
    {
      "cell_type": "code",
      "source": [
        "train_loss"
      ],
      "metadata": {
        "colab": {
          "base_uri": "https://localhost:8080/"
        },
        "id": "Cs6rSxfb6Z8Y",
        "outputId": "d02e54db-6ce3-4201-b9b6-f84df517855c"
      },
      "execution_count": null,
      "outputs": [
        {
          "output_type": "execute_result",
          "data": {
            "text/plain": [
              "[0.8294506362994511,\n",
              " 0.4274165951569875,\n",
              " 0.37152264062960944,\n",
              " 0.3458221882065137,\n",
              " 0.32987487610379856,\n",
              " 0.31878250342408815,\n",
              " 0.30993047945896784,\n",
              " 0.30339582693775496,\n",
              " 0.2976038325190544,\n",
              " 0.29264196798801423]"
            ]
          },
          "metadata": {},
          "execution_count": 61
        }
      ]
    },
    {
      "cell_type": "code",
      "source": [
        "import matplotlib.pyplot as plt\n",
        "plt.plot(train_loss)\n",
        "plt.plot(eval_loss)"
      ],
      "metadata": {
        "colab": {
          "base_uri": "https://localhost:8080/",
          "height": 447
        },
        "id": "apAUU-qh5lqZ",
        "outputId": "023ca215-1438-4288-a8e3-bd8808adf27e"
      },
      "execution_count": null,
      "outputs": [
        {
          "output_type": "execute_result",
          "data": {
            "text/plain": [
              "[<matplotlib.lines.Line2D at 0x7c9da6a827d0>]"
            ]
          },
          "metadata": {},
          "execution_count": 62
        },
        {
          "output_type": "display_data",
          "data": {
            "text/plain": [
              "<Figure size 640x480 with 1 Axes>"
            ],
            "image/png": "[encoded data removed]"
          },
          "metadata": {}
        }
      ]
    },
    {
      "cell_type": "code",
      "source": [],
      "metadata": {
        "id": "u6ZMmw0g6OA-"
      },
      "execution_count": null,
      "outputs": []
    }
  ]
}